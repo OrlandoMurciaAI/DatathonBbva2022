{
 "cells": [
  {
   "cell_type": "code",
   "execution_count": 22,
   "metadata": {},
   "outputs": [],
   "source": [
    "from bs4 import BeautifulSoup\n",
    "import requests \n",
    "import json "
   ]
  },
  {
   "cell_type": "code",
   "execution_count": 4,
   "metadata": {},
   "outputs": [
    {
     "data": {
      "text/plain": [
       "<Response [200]>"
      ]
     },
     "execution_count": 4,
     "metadata": {},
     "output_type": "execute_result"
    }
   ],
   "source": [
    "page = requests.get('https://www.bbva.com/es/sostenibilidad/bbva-se-compromete-a-reducir-las-emisiones-de-su-cartera-de-clientes-de-petroleo-y-gas-un-30-antes-de-2030/') \n",
    "page"
   ]
  },
  {
   "cell_type": "code",
   "execution_count": 6,
   "metadata": {},
   "outputs": [],
   "source": [
    "soup = BeautifulSoup(page.content, 'html.parser')\n"
   ]
  },
  {
   "cell_type": "code",
   "execution_count": 32,
   "metadata": {},
   "outputs": [
    {
     "data": {
      "text/plain": [
       "'BBVA quiere acompañar al sector energético en su transición y apuesta por las energías limpias. Por ello, ha anunciado que reducirá en un 30% las emisiones de su cartera de petróleo y gas antes de 2030. Este compromiso se suma a los objetivos que se marcó el banco en 2021 en otros cuatro sectores intensivos en emisiones de CO2 y a la decisión de dejar de financiar a las empresas del carbón, en línea con la alianza bancaria de cero emisiones netas (NZBA, por sus siglas en inglés).'"
      ]
     },
     "execution_count": 32,
     "metadata": {},
     "output_type": "execute_result"
    }
   ],
   "source": []
  },
  {
   "cell_type": "code",
   "execution_count": 18,
   "metadata": {},
   "outputs": [],
   "source": [
    "content = soup.script.get_text()"
   ]
  },
  {
   "cell_type": "code",
   "execution_count": 24,
   "metadata": {},
   "outputs": [],
   "source": [
    "content_dict = json.loads(content.replace('\\n',''))"
   ]
  },
  {
   "cell_type": "code",
   "execution_count": 26,
   "metadata": {},
   "outputs": [],
   "source": [
    "title = content_dict['headline']"
   ]
  },
  {
   "cell_type": "code",
   "execution_count": 33,
   "metadata": {},
   "outputs": [],
   "source": [
    "abstract = soup.find_all('div',attrs={'class':'col-md-offset-2 col-md-8 col-sm-12 col-xs-12'})[1].find('p').get_text()"
   ]
  },
  {
   "cell_type": "code",
   "execution_count": 44,
   "metadata": {},
   "outputs": [],
   "source": [
    "body = \"\" \n",
    "for paragraph in soup.find_all('div',attrs={'class':'col-md-offset-2 col-md-8 col-sm-12 col-xs-12'})[3].find_all('p'): \n",
    "    body += paragraph.get_text()  "
   ]
  },
  {
   "cell_type": "code",
   "execution_count": 45,
   "metadata": {},
   "outputs": [
    {
     "data": {
      "text/plain": [
       "'“El sector energético es fundamental en el desarrollo económico y social de los países en los que operamos. Con este compromiso queremos colaborar en la transición hacia modelos de negocio más sostenibles”, ha explicado Luisa Gómez Bravo, responsable global de Corporate & Investment Banking de BBVA.BBVA alineará su balance en el sector del petróleo y gas de acuerdo al escenario de cero emisiones netas en 2050 siguiendo la métrica de emisiones absolutas. Es decir, entre diciembre de 2021 y diciembre de 2030 reducirá las emisiones de su cartera crediticia en las actividades de exploración, perforación y extracción de este sector en un 30% de acuerdo al escenario más exigente en estos momentos (no superar 1,5ºC de incremento de temperatura en 2050). Asimismo, BBVA se ha comprometido a no dedicar financiación directamente vinculada con proyectos de exploración, perforación y extracción en dicho sector.Con este paso en un sector clave como el energético, el banco avanza en su compromiso de ser una entidad neutra en emisiones de carbono en 2050, no sólo por su propia actividad, donde ya lo es desde 2020, sino también por la actividad de los clientes a los que financia.Para conseguir que sus clientes reduzcan emisiones, BBVA, en primer lugar, les ayudará a definir planes sólidos y objetivos claros de reducción de emisiones. Y, en segundo lugar, les acompañará en su transición hacia otras formas de generar energía baja en carbono, apoyándoles en las inversiones necesarias que facilitarán su diversificación y descarbonización.\\xa0Este anuncio está alineado con el objetivo de acelerar la transición verde en Europa conforme al plan REPowerEU y a las propias indicaciones de la Agencia Internacional de la Energía (AIE). Según el informe Net-Zero Emissions by 2050 Roadmap, publicado por este organismo, se necesita una “inversión masiva e inmediata en energía limpia y eficiente”. De acuerdo a dicho informe, “si las energías renovables crecen con éxito lo suficientemente pronto, el resultado será que la demanda de petróleo y gas se reducirá, y no será necesario desarrollar nuevos yacimientos”.En 2019, BBVA incorporó la sostenibilidad como una de sus prioridades estratégicas y en 2021 anunció la creación del área global de Sostenibilidad. En dicho año, la entidad anunciaba su objetivo de suprimir su exposición a clientes del carbón en 2030 en los países desarrollados y en 2040 globalmente (en los términos indicados en el Marco Ambiental y Social de BBVA). Posteriormente fijó objetivos intermedios para descarbonizar su cartera en cuatro sectores intensivos en emisiones en 2030, unos sectores que, junto al carbón, representaban el 60% de las emisiones de CO2 mundiales.'"
      ]
     },
     "execution_count": 45,
     "metadata": {},
     "output_type": "execute_result"
    }
   ],
   "source": [
    "body"
   ]
  }
 ],
 "metadata": {
  "kernelspec": {
   "display_name": "Python 3.10.4 64-bit",
   "language": "python",
   "name": "python3"
  },
  "language_info": {
   "codemirror_mode": {
    "name": "ipython",
    "version": 3
   },
   "file_extension": ".py",
   "mimetype": "text/x-python",
   "name": "python",
   "nbconvert_exporter": "python",
   "pygments_lexer": "ipython3",
   "version": "3.10.6"
  },
  "orig_nbformat": 4,
  "vscode": {
   "interpreter": {
    "hash": "916dbcbb3f70747c44a77c7bcd40155683ae19c65e1c03b4aa3499c5328201f1"
   }
  }
 },
 "nbformat": 4,
 "nbformat_minor": 2
}
