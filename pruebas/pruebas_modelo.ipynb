{
 "cells": [
  {
   "cell_type": "code",
   "execution_count": 1,
   "metadata": {},
   "outputs": [
    {
     "name": "stderr",
     "output_type": "stream",
     "text": [
      "/home/jarvis/Documents/DatathonBbva2022/venv/lib/python3.10/site-packages/tqdm/auto.py:22: TqdmWarning: IProgress not found. Please update jupyter and ipywidgets. See https://ipywidgets.readthedocs.io/en/stable/user_install.html\n",
      "  from .autonotebook import tqdm as notebook_tqdm\n",
      "Downloading: 100%|██████████| 956/956 [00:00<00:00, 1.42MB/s]\n",
      "Downloading: 100%|██████████| 435M/435M [00:49<00:00, 8.71MB/s] \n",
      "Downloading: 100%|██████████| 334/334 [00:00<00:00, 138kB/s]\n",
      "Downloading: 100%|██████████| 858k/858k [00:00<00:00, 1.77MB/s]\n",
      "Downloading: 100%|██████████| 150/150 [00:00<00:00, 34.3kB/s]\n"
     ]
    }
   ],
   "source": [
    "from pysentimiento import create_analyzer\n",
    "hate_speech_analyzer = create_analyzer(task=\"hate_speech\", lang=\"es\")"
   ]
  },
  {
   "cell_type": "code",
   "execution_count": 17,
   "metadata": {},
   "outputs": [
    {
     "name": "stderr",
     "output_type": "stream",
     "text": [
      "  0%|          | 0/1 [00:00<?, ?ba/s]\n",
      "The following columns in the test set don't have a corresponding argument in `RobertaForSequenceClassification.forward` and have been ignored: text. If text are not expected by `RobertaForSequenceClassification.forward`,  you can safely ignore this message.\n",
      "***** Running Prediction *****\n",
      "  Num examples = 1\n",
      "  Batch size = 32\n",
      "100%|██████████| 1/1 [00:00<00:00, 4068.19it/s]\n"
     ]
    },
    {
     "data": {
      "text/plain": [
       "[AnalyzerOutput(output=['hateful'], probas={hateful: 0.626, targeted: 0.011, aggressive: 0.197})]"
      ]
     },
     "execution_count": 17,
     "metadata": {},
     "output_type": "execute_result"
    }
   ],
   "source": [
    "hate_speech_analyzer.predict(['!QUE SE ]) "
   ]
  },
  {
   "cell_type": "code",
   "execution_count": 11,
   "metadata": {},
   "outputs": [],
   "source": [
    "import re\n",
    "input = \"Welcome, 3333 User_12!!\"\n",
    " \n",
    "s = re.sub(r'\\W+', ' ', input)"
   ]
  },
  {
   "cell_type": "code",
   "execution_count": 12,
   "metadata": {},
   "outputs": [
    {
     "data": {
      "text/plain": [
       "'Welcome 3333 User_12 '"
      ]
     },
     "execution_count": 12,
     "metadata": {},
     "output_type": "execute_result"
    }
   ],
   "source": [
    "s"
   ]
  }
 ],
 "metadata": {
  "kernelspec": {
   "display_name": "Python 3.10.6 ('venv': venv)",
   "language": "python",
   "name": "python3"
  },
  "language_info": {
   "codemirror_mode": {
    "name": "ipython",
    "version": 3
   },
   "file_extension": ".py",
   "mimetype": "text/x-python",
   "name": "python",
   "nbconvert_exporter": "python",
   "pygments_lexer": "ipython3",
   "version": "3.10.6"
  },
  "orig_nbformat": 4,
  "vscode": {
   "interpreter": {
    "hash": "73b2f90427e24669af7d7a5af0fd844a4db4b03464bf4c757f47c0d5a1cf6991"
   }
  }
 },
 "nbformat": 4,
 "nbformat_minor": 2
}
